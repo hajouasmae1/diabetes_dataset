{
  "nbformat": 4,
  "nbformat_minor": 0,
  "metadata": {
    "colab": {
      "provenance": [],
      "authorship_tag": "ABX9TyPP1exmZ9+HdrTOF/kOQw91",
      "include_colab_link": true
    },
    "kernelspec": {
      "name": "python3",
      "display_name": "Python 3"
    },
    "language_info": {
      "name": "python"
    }
  },
  "cells": [
    {
      "cell_type": "markdown",
      "metadata": {
        "id": "view-in-github",
        "colab_type": "text"
      },
      "source": [
        "<a href=\"https://colab.research.google.com/github/hajouasmae1/diabetes_dataset/blob/main/app.ipynb\" target=\"_parent\"><img src=\"https://colab.research.google.com/assets/colab-badge.svg\" alt=\"Open In Colab\"/></a>"
      ]
    },
    {
      "cell_type": "code",
      "execution_count": 1,
      "metadata": {
        "colab": {
          "base_uri": "https://localhost:8080/"
        },
        "id": "oxluYFy-wB__",
        "outputId": "1da43e73-f502-41af-e250-c28912694c70"
      },
      "outputs": [
        {
          "output_type": "stream",
          "name": "stdout",
          "text": [
            "\u001b[2K     \u001b[90m━━━━━━━━━━━━━━━━━━━━━━━━━━━━━━━━━━━━━━━━\u001b[0m \u001b[32m8.4/8.4 MB\u001b[0m \u001b[31m22.7 MB/s\u001b[0m eta \u001b[36m0:00:00\u001b[0m\n",
            "\u001b[2K     \u001b[90m━━━━━━━━━━━━━━━━━━━━━━━━━━━━━━━━━━━━━━━━\u001b[0m \u001b[32m196.4/196.4 kB\u001b[0m \u001b[31m19.0 MB/s\u001b[0m eta \u001b[36m0:00:00\u001b[0m\n",
            "\u001b[2K     \u001b[90m━━━━━━━━━━━━━━━━━━━━━━━━━━━━━━━━━━━━━━━━\u001b[0m \u001b[32m4.8/4.8 MB\u001b[0m \u001b[31m48.7 MB/s\u001b[0m eta \u001b[36m0:00:00\u001b[0m\n",
            "\u001b[2K     \u001b[90m━━━━━━━━━━━━━━━━━━━━━━━━━━━━━━━━━━━━━━━━\u001b[0m \u001b[32m83.0/83.0 kB\u001b[0m \u001b[31m8.8 MB/s\u001b[0m eta \u001b[36m0:00:00\u001b[0m\n",
            "\u001b[2K     \u001b[90m━━━━━━━━━━━━━━━━━━━━━━━━━━━━━━━━━━━━━━━━\u001b[0m \u001b[32m62.7/62.7 kB\u001b[0m \u001b[31m4.2 MB/s\u001b[0m eta \u001b[36m0:00:00\u001b[0m\n",
            "\u001b[?25h"
          ]
        }
      ],
      "source": [
        "! pip install streamlit -q"
      ]
    },
    {
      "cell_type": "code",
      "source": [
        "import streamlit as st\n",
        "import pickle\n",
        "import pandas as pd\n",
        "\n"
      ],
      "metadata": {
        "id": "9KNd31XYwneo"
      },
      "execution_count": 9,
      "outputs": []
    },
    {
      "cell_type": "code",
      "source": [
        "# Load the trained model\n",
        "with open('/content/lgbm_tuned_model.pkl', 'rb') as f:\n",
        "    lgbm_model = pickle.load(f)"
      ],
      "metadata": {
        "id": "ZkGAvytDwYMj"
      },
      "execution_count": 4,
      "outputs": []
    },
    {
      "cell_type": "code",
      "source": [
        "# Function to make predictions\n",
        "def predict_outcome(model, data):\n",
        "    prediction = model.predict(data)\n",
        "    return prediction"
      ],
      "metadata": {
        "id": "34cRT50IwYyI"
      },
      "execution_count": 5,
      "outputs": []
    },
    {
      "cell_type": "code",
      "source": [
        "import streamlit as st\n",
        "def main():\n",
        "    st.title(\"Diabetes Prediction App\")\n",
        "\n",
        "    # User input for features\n",
        "    pregnancies = st.slider(\"Number of times pregnant\", 0, 20, 0)\n",
        "    glucose = st.slider(\"Plasma glucose concentration\", 0, 200, 0)\n",
        "    blood_pressure = st.slider(\"Diastolic blood pressure\", 0, 150, 0)\n",
        "    skin_thickness = st.slider(\"Triceps skin fold thickness\", 0, 100, 0)\n",
        "    insulin = st.slider(\"2-Hour serum insulin\", 0, 1000, 0)\n",
        "    bmi = st.slider(\"Body mass index\", 0.0, 70.0, 0.0)\n",
        "    pedigree = st.slider(\"Diabetes pedigree function\", 0.0, 2.0, 0.0)\n",
        "    age = st.slider(\"Age\", 0, 150, 0)\n",
        "\n",
        "    # Create a DataFrame from user input\n",
        "    user_data = pd.DataFrame({\n",
        "        \"Number of times pregnant\": [pregnancies],\n",
        "        \"Plasma glucose concentration\": [glucose],\n",
        "        \"Diastolic blood pressure\": [blood_pressure],\n",
        "        \"Triceps skin fold thickness\": [skin_thickness],\n",
        "        \"2-Hour serum insulin\": [insulin],\n",
        "        \"Body mass index\": [bmi],\n",
        "        \"Diabetes pedigree function\": [pedigree],\n",
        "        \"Age\": [age]\n",
        "    })\n",
        "\n",
        "    # Use the trained model to make a prediction\n",
        "    prediction = predict_outcome(lgbm_model, user_data)\n",
        "\n",
        "    # Display the prediction\n",
        "    if prediction[0] == 1:\n",
        "        st.error('Patient is likely to have diabetes.')\n",
        "    else:\n",
        "        st.success('Patient is likely to be diabetes-free.')\n",
        "\n",
        "if __name__ == \"__main__\":\n",
        "    main()"
      ],
      "metadata": {
        "id": "GRM82guYwdgy"
      },
      "execution_count": 10,
      "outputs": []
    }
  ]
}